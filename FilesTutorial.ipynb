{
 "cells": [
  {
   "cell_type": "code",
   "execution_count": null,
   "id": "6765d1b1",
   "metadata": {},
   "outputs": [],
   "source": [
    "with open ('test.txt', 'r') as f:\n",
    "    f_contents = f.read()\n",
    "    print (f_contents)"
   ]
  },
  {
   "cell_type": "code",
   "execution_count": null,
   "id": "6959c455",
   "metadata": {},
   "outputs": [],
   "source": [
    "with open ('test.txt', 'r') as f:\n",
    "    f_contents = f.readlines()\n",
    "    print (f_contents)"
   ]
  },
  {
   "cell_type": "code",
   "execution_count": null,
   "id": "349fbe37",
   "metadata": {},
   "outputs": [],
   "source": [
    "with open ('test.txt', 'r') as f:\n",
    "    f_contents = f.readline()\n",
    "    print (f_contents)"
   ]
  },
  {
   "cell_type": "code",
   "execution_count": null,
   "id": "1e04b21a",
   "metadata": {},
   "outputs": [],
   "source": [
    "with open ('test.txt', 'r') as f:\n",
    "    for line in f:\n",
    "        print (line, end= '')"
   ]
  },
  {
   "cell_type": "code",
   "execution_count": null,
   "id": "8bd2b78f",
   "metadata": {},
   "outputs": [],
   "source": [
    "with open ('test.txt', 'r') as f:\n",
    "    size_to_read =100\n",
    "    \n",
    "    f_contents = f.read (size_to_read)\n",
    "    \n",
    "    while len (f_contents) > 0:\n",
    "       print (f_contents, end='')\n",
    "    f_contents = f.read(size_to_read)"
   ]
  },
  {
   "cell_type": "code",
   "execution_count": null,
   "id": "39ca9e7e",
   "metadata": {},
   "outputs": [],
   "source": [
    "with open ('test.txt', 'r') as f:\n",
    "    size_to_read =100\n",
    "    \n",
    "    f_contents = f.read (size_to_read)\n",
    "    \n",
    "    print(f.tell())"
   ]
  },
  {
   "cell_type": "code",
   "execution_count": null,
   "id": "bec38ff6",
   "metadata": {},
   "outputs": [],
   "source": [
    "with open ('test.txt', 'r') as f:\n",
    "    size_to_read =10\n",
    "    \n",
    "    f_contents = f.read (size_to_read)\n",
    "    print (f_contents, end='')\n",
    "    \n",
    "    f.seek (0)\n",
    "    \n",
    "    print(f.tell())"
   ]
  },
  {
   "cell_type": "code",
   "execution_count": null,
   "id": "cd0a347a",
   "metadata": {},
   "outputs": [],
   "source": [
    "with open ('test2.txt', 'w') as f:\n",
    "    f.write('Test')\n",
    "    f.seek(0)\n",
    "    f.write('Test')"
   ]
  },
  {
   "cell_type": "code",
   "execution_count": null,
   "id": "4da117f3",
   "metadata": {},
   "outputs": [],
   "source": [
    "with open ('test.txt','r') as rf:\n",
    "    with open ('test_copy.txt','w') as wf:\n",
    "       for line in rf:\n",
    "        wf.write (line)"
   ]
  },
  {
   "cell_type": "code",
   "execution_count": null,
   "id": "ed1be6c8",
   "metadata": {},
   "outputs": [],
   "source": [
    "with open ('puppy.jpg','r') as rf:\n",
    "    with open ('puppy_copy.jpg','wb') as wf:\n",
    "       for line in rf:\n",
    "        wf.write (line)"
   ]
  },
  {
   "cell_type": "code",
   "execution_count": null,
   "id": "04265a89",
   "metadata": {},
   "outputs": [],
   "source": [
    "with open ('puppy.jpg','r') as rf:\n",
    "    with open ('puppy_copy.jpg','wb') as wf:\n",
    "       chunk_size = 4096\n",
    "    rf_chunk = f.read (chunk_size)\n",
    "    while len (rf_chunk >0):\n",
    "        wf.write (rf_chunk)\n",
    "        rf_chunk=rf.read(chunk_size)"
   ]
  },
  {
   "cell_type": "code",
   "execution_count": 5,
   "id": "a4c19c49",
   "metadata": {},
   "outputs": [],
   "source": [
    "f= open ('test.txt', 'r')"
   ]
  },
  {
   "cell_type": "code",
   "execution_count": 7,
   "id": "8e21d1bd",
   "metadata": {},
   "outputs": [
    {
     "name": "stdout",
     "output_type": "stream",
     "text": [
      "r\n"
     ]
    }
   ],
   "source": [
    "print (f.mode)"
   ]
  },
  {
   "cell_type": "code",
   "execution_count": 8,
   "id": "202eaaf2",
   "metadata": {},
   "outputs": [
    {
     "name": "stdout",
     "output_type": "stream",
     "text": [
      "<built-in method read of _io.TextIOWrapper object at 0x00000122A5B3F1E0>\n"
     ]
    }
   ],
   "source": [
    "print (f.read)"
   ]
  },
  {
   "cell_type": "code",
   "execution_count": null,
   "id": "bd981e86",
   "metadata": {},
   "outputs": [],
   "source": [
    "f.close ()"
   ]
  }
 ],
 "metadata": {
  "kernelspec": {
   "display_name": "Python 3",
   "language": "python",
   "name": "python3"
  },
  "language_info": {
   "codemirror_mode": {
    "name": "ipython",
    "version": 3
   },
   "file_extension": ".py",
   "mimetype": "text/x-python",
   "name": "python",
   "nbconvert_exporter": "python",
   "pygments_lexer": "ipython3",
   "version": "3.8.8"
  }
 },
 "nbformat": 4,
 "nbformat_minor": 5
}
